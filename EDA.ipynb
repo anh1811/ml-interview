{
 "cells": [
  {
   "cell_type": "code",
   "execution_count": 1,
   "id": "3dd6c9eb-60bb-434d-9f76-ec22606ff3f2",
   "metadata": {},
   "outputs": [],
   "source": [
    "import json"
   ]
  },
  {
   "cell_type": "code",
   "execution_count": 4,
   "id": "fe995157-90e9-41c1-9c31-715dbba89a70",
   "metadata": {},
   "outputs": [],
   "source": [
    "with open('persons.json', 'r') as f:\n",
    "    data = json.load(f)"
   ]
  },
  {
   "cell_type": "markdown",
   "id": "3fb88436-27ed-4baf-8423-6c2e14231699",
   "metadata": {},
   "source": [
    "data is a list of user\n",
    "each user connected with each other through table "
   ]
  },
  {
   "cell_type": "code",
   "execution_count": 8,
   "id": "4624fb14-79e8-4dfd-bd51-fccb445d3319",
   "metadata": {},
   "outputs": [
    {
     "data": {
      "text/plain": [
       "dict_keys(['person', 'address', 'bankBalance', 'bankTransactions', 'loanApplications', 'personCreditScore'])"
      ]
     },
     "execution_count": 8,
     "metadata": {},
     "output_type": "execute_result"
    }
   ],
   "source": [
    "test_sample = data[0]\n",
    "test_sample.keys()"
   ]
  },
  {
   "cell_type": "code",
   "execution_count": 14,
   "id": "6c642f33-3ce3-47f7-b86b-d98651f352e5",
   "metadata": {},
   "outputs": [
    {
     "name": "stdout",
     "output_type": "stream",
     "text": [
      "{'id': '64dd7a20-f1bf-4359-8557-eadbc4abf88d', 'first_name': 'Eda', 'last_name': 'Rolfson', 'email': 'Johathan56@hotmail.com', 'phone_number': '988-945-5734 x365', 'date_of_birth': '1967-04-14T22:26:06.702Z', 'nationality': 'Saint Pierre and Miquelon', 'occupation': 'Customer Creative Coordinator', 'created_at': '2024-03-01T21:36:32.939Z', 'updated_at': '2024-03-01T07:56:45.723Z'}\n"
     ]
    },
    {
     "data": {
      "text/plain": [
       "dict_keys(['id', 'first_name', 'last_name', 'email', 'phone_number', 'date_of_birth', 'nationality', 'occupation', 'created_at', 'updated_at'])"
      ]
     },
     "execution_count": 14,
     "metadata": {},
     "output_type": "execute_result"
    }
   ],
   "source": [
    "print(test_sample['person'])\n",
    "test_sample['person'].keys()\n",
    "\n"
   ]
  },
  {
   "cell_type": "code",
   "execution_count": 13,
   "id": "8259cf34-5d65-41af-bfde-526534b7259d",
   "metadata": {},
   "outputs": [
    {
     "name": "stdout",
     "output_type": "stream",
     "text": [
      "{'id': 'b604e59b-ecc4-4be6-8896-3392f27743c1', 'person_id': '64dd7a20-f1bf-4359-8557-eadbc4abf88d', 'line_1': '2561 E Washington Avenue', 'line_2': 'Suite 914', 'city': 'Kelvinstead', 'county': 'County Fermanagh', 'postcode': '33937', 'region': 'Delaware', 'country_code': 'United States', 'start_date': '2024-03-02T07:45:58.113Z', 'current': False, 'property_equity': '147.91', 'status': 'living-with-friends', 'created_at': '2024-03-01T06:15:49.419Z', 'updated_at': '2024-03-01T17:34:23.113Z', 'mailing_address': True}\n"
     ]
    },
    {
     "data": {
      "text/plain": [
       "dict_keys(['id', 'person_id', 'line_1', 'line_2', 'city', 'county', 'postcode', 'region', 'country_code', 'start_date', 'current', 'property_equity', 'status', 'created_at', 'updated_at', 'mailing_address'])"
      ]
     },
     "execution_count": 13,
     "metadata": {},
     "output_type": "execute_result"
    }
   ],
   "source": [
    "print(test_sample['address'])\n",
    "test_sample['address'].keys()"
   ]
  },
  {
   "cell_type": "code",
   "execution_count": 15,
   "id": "4974bc17-c0c8-4c65-a9fb-43b7ec976b27",
   "metadata": {},
   "outputs": [
    {
     "data": {
      "text/plain": [
       "dict_keys(['id', 'person_id', 'bank_account_id', 'amount', 'currency', 'credit_debit_indicator', 'created_at', 'updated_at'])"
      ]
     },
     "execution_count": 15,
     "metadata": {},
     "output_type": "execute_result"
    }
   ],
   "source": [
    "test_sample['bankBalance'].keys()"
   ]
  },
  {
   "cell_type": "code",
   "execution_count": 19,
   "id": "f655cfcf-70c7-442a-a2cc-8aed2d5356d4",
   "metadata": {},
   "outputs": [
    {
     "data": {
      "text/plain": [
       "dict_keys(['id', 'person_id', 'bank_account_id', 'amount', 'currency', 'credit_debit_indicator', 'status', 'booking_date_time', 'value_date_time', 'bank_transaction_code', 'transaction_information', 'balance_credit_debit_indicator', 'balance_type', 'balance_amount', 'supplementary_data', 'created_at', 'updated_at'])"
      ]
     },
     "execution_count": 19,
     "metadata": {},
     "output_type": "execute_result"
    }
   ],
   "source": [
    "# list\n",
    "one_transactions = test_sample['bankTransactions'][0]\n",
    "one_transactions.keys()"
   ]
  },
  {
   "cell_type": "code",
   "execution_count": 21,
   "id": "85dd07ee-1d3d-4ed9-ada6-e99606972e29",
   "metadata": {},
   "outputs": [
    {
     "data": {
      "text/plain": [
       "dict_keys(['id', 'person_id', 'status', 'created_at', 'updated_at', 'funding_amount', 'funding_date', 'funding_reasons', 'credit_limit', 'credit_score_check_consent_given_at', 'region'])"
      ]
     },
     "execution_count": 21,
     "metadata": {},
     "output_type": "execute_result"
    }
   ],
   "source": [
    "# list\n",
    "one_application = test_sample['loanApplications'][0]\n",
    "one_application.keys()"
   ]
  },
  {
   "cell_type": "code",
   "execution_count": 22,
   "id": "0c1e58fc-16a0-48ce-83e2-eea90aeb2902",
   "metadata": {},
   "outputs": [
    {
     "data": {
      "text/plain": [
       "{'id': '6507b1f4-de12-4e14-976b-e8d1ed101024',\n",
       " 'person_id': '64dd7a20-f1bf-4359-8557-eadbc4abf88d',\n",
       " 'score': 333,\n",
       " 'meta_data_description': 'High Risk',\n",
       " 'factors': {'latePayments': 10,\n",
       "  'defaults': 3,\n",
       "  'accountAge': 16,\n",
       "  'totalDebt': '36849.71',\n",
       "  'incomeStability': False,\n",
       "  'spendingPatterns': 'low-risk',\n",
       "  'savingsBehavior': '13742.05',\n",
       "  'creditInquiries': 8},\n",
       " 'monthlyIncome': '283.70',\n",
       " 'created_at': '2024-03-01T07:23:27.858Z',\n",
       " 'updated_at': '2024-03-01T23:07:40.574Z'}"
      ]
     },
     "execution_count": 22,
     "metadata": {},
     "output_type": "execute_result"
    }
   ],
   "source": [
    "test_sample['personCreditScore']"
   ]
  },
  {
   "cell_type": "code",
   "execution_count": null,
   "id": "24cbad09-e813-46e2-aee1-95d784fdc198",
   "metadata": {},
   "outputs": [],
   "source": []
  }
 ],
 "metadata": {
  "kernelspec": {
   "display_name": "ml",
   "language": "python",
   "name": "ml"
  },
  "language_info": {
   "codemirror_mode": {
    "name": "ipython",
    "version": 3
   },
   "file_extension": ".py",
   "mimetype": "text/x-python",
   "name": "python",
   "nbconvert_exporter": "python",
   "pygments_lexer": "ipython3",
   "version": "3.8.19"
  }
 },
 "nbformat": 4,
 "nbformat_minor": 5
}
